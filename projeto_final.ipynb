{
 "cells": [
  {
   "cell_type": "code",
   "execution_count": 1,
   "metadata": {
    "collapsed": true,
    "deletable": true,
    "editable": true
   },
   "outputs": [],
   "source": [
    "%matplotlib inline\n",
    "%config InlineBackend.figure_format = 'retina'\n",
    "\n",
    "import random\n",
    "import string\n",
    "import argparse\n",
    "import os\n",
    "import glob\n",
    "import shutil\n",
    "import pickle\n",
    "\n",
    "import numpy as np\n",
    "import tensorflow as tf\n",
    "import matplotlib.pyplot as plt\n",
    "\n",
    "from captcha.image import ImageCaptcha\n",
    "from PIL import Image\n",
    "from sklearn import preprocessing\n",
    "from sklearn.utils import shuffle\n",
    "from sklearn.preprocessing import LabelBinarizer\n"
   ]
  },
  {
   "cell_type": "markdown",
   "metadata": {},
   "source": [
    "\n",
    "** Criação dos Datasets de Treino e Teste**\n"
   ]
  },
  {
   "cell_type": "code",
   "execution_count": 2,
   "metadata": {
    "collapsed": false,
    "deletable": true,
    "editable": true
   },
   "outputs": [
    {
     "name": "stdout",
     "output_type": "stream",
     "text": [
      "Path existe? True\n"
     ]
    }
   ],
   "source": [
    "path = \"images\" \n",
    "\n",
    "if os.path.exists(path):\n",
    "    shutil.rmtree(path)\n",
    "\n",
    "if not os.path.exists(path):\n",
    "    os.makedirs(path + \"/train\")\n",
    "    os.makedirs(path + \"/test\")\n",
    "\n",
    "print(\"Path existe? {}\".format(os.path.exists(path)))\n"
   ]
  },
  {
   "cell_type": "code",
   "execution_count": 3,
   "metadata": {
    "collapsed": false,
    "deletable": true,
    "editable": true
   },
   "outputs": [
    {
     "name": "stdout",
     "output_type": "stream",
     "text": [
      "Total de imagens para treino 15000\n",
      "Total de imagens para teste 3000\n"
     ]
    }
   ],
   "source": [
    "captchaGenerator = ImageCaptcha(height=65, width=80, font_sizes=[40])\n",
    "\n",
    "def generate_chatchas(number_that_must_be_in_image, number_of_images, path):\n",
    "    for i in range(number_of_images):\n",
    "        number = random.choice(string.digits) + number_that_must_be_in_image + random.choice(string.digits)\n",
    "        captchaGenerator.write(number, os.path.join(path, number_that_must_be_in_image+\"_\"+str(i)+\"_\"+number+\".png\"))\n",
    "\n",
    "    for i in range(number_of_images):\n",
    "        number = \" \" + number_that_must_be_in_image + random.choice(string.digits)\n",
    "        captchaGenerator.write(number, os.path.join(path, number_that_must_be_in_image+\"_\"+str(i)+\"_\"+number+\".png\"))\n",
    "\n",
    "    for i in range(number_of_images):\n",
    "        number = random.choice(string.digits) + number_that_must_be_in_image + \" \"\n",
    "        captchaGenerator.write(number, os.path.join(path, number_that_must_be_in_image+\"_\"+str(i)+\"_\"+number+\".png\"))\n",
    "\n",
    "number_of_train_samples = 500\n",
    "number_of_test_samples = 100\n",
    "                \n",
    "for i in range(10):\n",
    "    generate_chatchas(str(i), number_of_train_samples, path +'/train/')\n",
    "    generate_chatchas(str(i), number_of_test_samples, path +'/test/')\n",
    "\n",
    "print(\"Total de imagens para treino {}\".format(len(glob.glob(path +'/train/*'))))\n",
    "print(\"Total de imagens para teste {}\".format(len(glob.glob(path +'/test/*'))))\n"
   ]
  },
  {
   "cell_type": "markdown",
   "metadata": {},
   "source": [
    "\n",
    "** Análise dos Dados **\n"
   ]
  },
  {
   "cell_type": "code",
   "execution_count": 4,
   "metadata": {
    "collapsed": false,
    "deletable": true,
    "editable": true
   },
   "outputs": [
    {
     "name": "stdout",
     "output_type": "stream",
     "text": [
      "Formato da imagem (65, 80, 3)\n"
     ]
    }
   ],
   "source": [
    "all_images = glob.glob(path +'/train/*')\n",
    "\n",
    "image = np.array(Image.open(all_images[0]))\n",
    "print(\"Formato da imagem {}\".format(image.shape))\n"
   ]
  },
  {
   "cell_type": "code",
   "execution_count": 5,
   "metadata": {
    "collapsed": false,
    "deletable": true,
    "editable": true
   },
   "outputs": [
    {
     "name": "stdout",
     "output_type": "stream",
     "text": [
      "Total de Labels para treino: {0: 1500, 1: 1500, 2: 1500, 3: 1500, 4: 1500, 5: 1500, 6: 1500, 7: 1500, 8: 1500, 9: 1500}\n",
      "Primeiros 5 Labels para treino: [8 1 2 6 0]\n",
      "Total de Labels para teste: {0: 300, 1: 300, 2: 300, 3: 300, 4: 300, 5: 300, 6: 300, 7: 300, 8: 300, 9: 300}\n",
      "Primeiros 5 Labels para teste: [9 4 3 9 1]\n"
     ]
    }
   ],
   "source": [
    "import re\n",
    "\n",
    "train_image_file_names = np.array(list(map(lambda filename: os.path.join(path+'/train', filename), os.listdir(path+'/train'))))\n",
    "train_image_file_labels = np.array(list(map(lambda x: int(x.split('/')[2].split('_')[0]), train_image_file_names)))\n",
    "\n",
    "print('Total de Labels para treino: {}'.format(dict(zip(*np.unique(train_image_file_labels, return_counts=True)))))\n",
    "print('Primeiros 5 Labels para treino: {}'.format(train_image_file_labels[:5]))\n",
    "\n",
    "test_image_file_names = np.array(list(map(lambda filename: os.path.join(path+'/test', filename), os.listdir(path+'/test'))))\n",
    "test_image_file_labels = np.array(list(map(lambda x: int(x.split('/')[2].split('_')[0]), test_image_file_names)))\n",
    "\n",
    "print('Total de Labels para teste: {}'.format(dict(zip(*np.unique(test_image_file_labels, return_counts=True)))))\n",
    "print('Primeiros 5 Labels para teste: {}'.format(test_image_file_labels[:5]))\n"
   ]
  },
  {
   "cell_type": "code",
   "execution_count": 6,
   "metadata": {
    "collapsed": false,
    "deletable": true,
    "editable": true
   },
   "outputs": [
    {
     "data": {
      "image/png": "[encoded data removed]",
      "text/plain": [
       "<matplotlib.figure.Figure at 0x7f7407d51278>"
      ]
     },
     "metadata": {
      "image/png": {
       "height": 397,
       "width": 728
      }
     },
     "output_type": "display_data"
    }
   ],
   "source": [
    "plt.rcParams['figure.figsize'] = (10.0, 5.0)\n",
    "\n",
    "fig, (ax1, ax2) = plt.subplots(1, 2, sharex=True)\n",
    "\n",
    "fig.suptitle('Distribuição dos Labels', fontsize=14, fontweight='bold', y=1.05)\n",
    "fig.text(0.5, 0.0, 'Labels', ha='center', va='center')\n",
    "fig.text(0.0, 0.5, 'Quantidade', ha='center', va='center', rotation='vertical')\n",
    "\n",
    "ax1.hist(train_image_file_labels, bins=10)\n",
    "ax1.set_title(\"Dataset de Treino\")\n",
    "ax1.set_xlim(0, 9)\n",
    "ax1.set_ylim(0, 1600)\n",
    "\n",
    "ax2.hist(test_image_file_labels, color='r', bins=10)\n",
    "ax2.set_title(\"Dataset de Teste\")\n",
    "ax2.set_xlim(0, 9)\n",
    "ax2.set_ylim(0, 350)\n",
    "\n",
    "fig.tight_layout()"
   ]
  },
  {
   "cell_type": "markdown",
   "metadata": {},
   "source": [
    "** Pré-processamento dos Dados **"
   ]
  },
  {
   "cell_type": "code",
   "execution_count": 7,
   "metadata": {
    "collapsed": true,
    "deletable": true,
    "editable": true
   },
   "outputs": [],
   "source": [
    "# Metodos auxiliares para preprocessamento de imagens\n",
    "\n",
    "def normalize(features):\n",
    "    features_min = features.min(axis=(1, 2), keepdims=True)\n",
    "    features_max = features.max(axis=(1, 2), keepdims=True)\n",
    "    features = (features - features_min)/(features_max-features_min)\n",
    "    return features\n",
    "\n",
    "possible_labels = [0,1,2,3,4,5,6,7,8,9] \n",
    "def one_hot_encode(labels):\n",
    "    lb = preprocessing.LabelBinarizer()\n",
    "    lb.fit(possible_labels)\n",
    "    return lb.transform(labels)\n",
    "\n",
    "def preprocess_and_save_to_file(features, labels, filename):\n",
    "    features = normalize(features)\n",
    "    labels = one_hot_encode(labels)\n",
    "\n",
    "    pickle.dump((features, labels), open(filename, 'wb'))\n",
    "    "
   ]
  },
  {
   "cell_type": "code",
   "execution_count": 8,
   "metadata": {
    "collapsed": false,
    "deletable": true,
    "editable": true
   },
   "outputs": [
    {
     "name": "stdout",
     "output_type": "stream",
     "text": [
      "Batch 0 de imagens para treino processado com sucesso.\n",
      "Batch 1 de imagens para treino processado com sucesso.\n",
      "Batch 2 de imagens para treino processado com sucesso.\n",
      "Batch 3 de imagens para treino processado com sucesso.\n",
      "Batch 4 de imagens para treino processado com sucesso.\n",
      "Batch 5 de imagens para treino processado com sucesso.\n",
      "Batch 6 de imagens para treino processado com sucesso.\n",
      "Batch 7 de imagens para treino processado com sucesso.\n",
      "Batch 8 de imagens para treino processado com sucesso.\n",
      "Batch de imagens para validacao processado com sucesso.\n",
      "Batch de imagens para teste processado com sucesso.\n"
     ]
    }
   ],
   "source": [
    "# Preprocessamento de imagens\n",
    "\n",
    "def load_batch(file_names, labels):\n",
    "    features = np.array(list(map(lambda file: np.array(Image.open(file)), file_names)))\n",
    "    return features, labels\n",
    "    \n",
    "def preprocess_and_save_data_in_pickled_format(train_image_file_names, \n",
    "                                               train_image_file_labels,\n",
    "                                               test_image_file_names,\n",
    "                                               test_image_file_labels):\n",
    "\n",
    "    features_batchs = np.array_split(train_image_file_names,9)\n",
    "    labels_batchs = np.array_split(train_image_file_labels,9)\n",
    "    \n",
    "    valid_features = []\n",
    "    valid_labels = []\n",
    "    \n",
    "    # Processando dados de treino\n",
    "    for batch_id in range(0, len(features_batchs)):\n",
    "        # Carregando batch de treino\n",
    "        features, labels = load_batch(features_batchs[batch_id], labels_batchs[batch_id])\n",
    "        validation_count = int(len(features) * 0.1)\n",
    "\n",
    "        preprocess_and_save_to_file(features[:-validation_count],\n",
    "                                    labels[:-validation_count],\n",
    "                                    'images/preprocess_batch_' + str(batch_id) + '.p')\n",
    "        \n",
    "        print('Batch {} de imagens para treino processado com sucesso.'.format(batch_id))\n",
    "\n",
    "        # Separando 10% dos dados para validacao\n",
    "        valid_features.extend(features[-validation_count:])\n",
    "        valid_labels.extend(labels[-validation_count:])\n",
    "    \n",
    "    # Processando dados que serao usados para validacao durante o treino\n",
    "    preprocess_and_save_to_file(np.array(valid_features),\n",
    "                                np.array(valid_labels),\n",
    "                                'images/preprocess_validation.p')\n",
    "    \n",
    "    print('Batch de imagens para validacao processado com sucesso.')\n",
    "\n",
    "    # Carregando batch de teste\n",
    "    test_features, test_labels = load_batch(test_image_file_names, test_image_file_labels)\n",
    "\n",
    "    # Processando dados de teste\n",
    "    preprocess_and_save_to_file(np.array(test_features),\n",
    "                                np.array(test_labels),\n",
    "                                'images/preprocess_testing.p')\n",
    "    \n",
    "    print('Batch de imagens para teste processado com sucesso.')\n",
    "    \n",
    "train_image_file_names, train_image_file_labels = shuffle(train_image_file_names, train_image_file_labels)  \n",
    "test_image_file_names, test_image_file_labels = shuffle(test_image_file_names, test_image_file_labels)  \n",
    "preprocess_and_save_data_in_pickled_format(train_image_file_names, \n",
    "                                           train_image_file_labels,\n",
    "                                           test_image_file_names,\n",
    "                                           test_image_file_labels)\n"
   ]
  },
  {
   "cell_type": "markdown",
   "metadata": {},
   "source": [
    "** Criação da CNN **"
   ]
  },
  {
   "cell_type": "code",
   "execution_count": 1,
   "metadata": {
    "collapsed": true,
    "deletable": true,
    "editable": true
   },
   "outputs": [],
   "source": [
    "# Metodos auxiliares para: image input, label input e a probabilidade de dropout.\n",
    "\n",
    "def neural_net_image_input(image_shape):\n",
    "    return tf.placeholder(tf.float32, shape=([None, *image_shape]), name='x')\n",
    "\n",
    "def neural_net_label_input(n_classes):\n",
    "    return tf.placeholder(tf.float32, shape=[None, n_classes], name='y')\n",
    "\n",
    "def neural_net_keep_prob_input():\n",
    "    return tf.placeholder(tf.float32, name='keep_prob')\n"
   ]
  },
  {
   "cell_type": "code",
   "execution_count": 2,
   "metadata": {
    "collapsed": true,
    "deletable": true,
    "editable": true
   },
   "outputs": [],
   "source": [
    "# Metodos auxiliares para criacao das camadas da CNN.\n",
    "\n",
    "def conv2d(x_tensor, conv_num_outputs, conv_ksize, conv_strides):\n",
    "    return tf.contrib.layers.conv2d(inputs=x_tensor, num_outputs=conv_num_outputs, kernel_size=conv_ksize, stride=conv_strides, padding='SAME')\n",
    "\n",
    "def maxpool(x_tensor, pool_ksize, pool_strides):\n",
    "    return tf.contrib.layers.max_pool2d(inputs=x_tensor,kernel_size=pool_ksize,stride=pool_strides,padding='SAME')\n",
    "\n",
    "def flatten(x_tensor):\n",
    "    return tf.contrib.layers.flatten(inputs=x_tensor)\n",
    "\n",
    "def fully_conn(x_tensor, num_outputs):\n",
    "    return tf.contrib.layers.fully_connected(inputs=x_tensor, num_outputs=num_outputs,activation_fn=tf.nn.relu)\n",
    "\n",
    "def output(x_tensor, num_outputs):\n",
    "    return tf.contrib.layers.fully_connected(inputs=x_tensor, num_outputs=num_outputs,activation_fn=None)\n"
   ]
  },
  {
   "cell_type": "code",
   "execution_count": 3,
   "metadata": {
    "collapsed": true,
    "deletable": true,
    "editable": true
   },
   "outputs": [],
   "source": [
    "# Metodo auxiliar para criacao da CNN\n",
    "\n",
    "def cnn(x_tensor, dropout_keep_prob):\n",
    "    \n",
    "    # Convolutional Layer\n",
    "    x_tensor = conv2d(x_tensor, conv_num_outputs= 32, conv_ksize= (3, 3),conv_strides= (1, 1))\n",
    "    \n",
    "    # Pooling Layer\n",
    "    x_tensor = maxpool(x_tensor, pool_ksize= (2, 2), pool_strides= (2, 2))\n",
    "\n",
    "    # Convolutional Layer\n",
    "    x_tensor = conv2d(x_tensor, conv_num_outputs= 64, conv_ksize= (3, 3), conv_strides= (1, 1))\n",
    "    \n",
    "    # Pooling Layer\n",
    "    x_tensor = maxpool(x_tensor, pool_ksize= (2, 2), pool_strides= (2, 2))\n",
    "    \n",
    "    # Convolutional Layer\n",
    "    x_tensor = conv2d(x_tensor, conv_num_outputs= 128, conv_ksize= (3, 3), conv_strides= (1, 1))\n",
    "    \n",
    "    # Pooling Layer\n",
    "    x_tensor = maxpool(x_tensor, pool_ksize= (2, 2), pool_strides= (2, 2))\n",
    "    \n",
    "    # Flatten Layer\n",
    "    x_tensor = flatten(x_tensor)\n",
    "    \n",
    "    # TensorFlow Dropout\n",
    "    x_tensor = tf.nn.dropout(x_tensor, dropout_keep_prob)\n",
    "    \n",
    "    # Fully Connected Layers 1\n",
    "    x_tensor = fully_conn(x_tensor, num_outputs=512)\n",
    "    \n",
    "    # TensorFlow Dropout\n",
    "    x_tensor = tf.nn.dropout(x_tensor, dropout_keep_prob)\n",
    "    \n",
    "    # Fully Connected Layers 2\n",
    "    x_tensor = fully_conn(x_tensor, num_outputs=256)\n",
    "    \n",
    "    # TensorFlow Dropout\n",
    "    x_tensor = tf.nn.dropout(x_tensor, dropout_keep_prob)\n",
    "    \n",
    "    # Fully Connected Layers 3\n",
    "    x_tensor = fully_conn(x_tensor, num_outputs=128)\n",
    "    \n",
    "    # TensorFlow Dropout\n",
    "    x_tensor = tf.nn.dropout(x_tensor, dropout_keep_prob)\n",
    "    \n",
    "    # Output Layer\n",
    "    x_tensor = output(x_tensor, num_outputs = 10)\n",
    "    \n",
    "    return x_tensor\n"
   ]
  },
  {
   "cell_type": "code",
   "execution_count": 7,
   "metadata": {
    "collapsed": true,
    "deletable": true,
    "editable": true
   },
   "outputs": [],
   "source": [
    "# Construindo a CNN\n",
    "\n",
    "# Inicializacao das variaveis de input, label e keep_prob\n",
    "x = neural_net_image_input((65, 80, 3))\n",
    "y = neural_net_label_input(10)\n",
    "keep_prob = neural_net_keep_prob_input()\n",
    "\n",
    "# Criando o Modelo\n",
    "logits = cnn(x, keep_prob)\n",
    "\n",
    "# Adicionando identificacao dos logits\n",
    "logits = tf.identity(logits, name='logits')\n",
    "\n",
    "# Perda e Otimizador\n",
    "cost = tf.reduce_mean(tf.nn.softmax_cross_entropy_with_logits(logits=logits, labels=y))\n",
    "optimizer = tf.train.AdamOptimizer().minimize(cost)\n",
    "\n",
    "# Acuracia\n",
    "correct_pred = tf.equal(tf.argmax(logits, 1), tf.argmax(y, 1))\n",
    "accuracy = tf.reduce_mean(tf.cast(correct_pred, tf.float32), name='accuracy')\n"
   ]
  },
  {
   "cell_type": "markdown",
   "metadata": {},
   "source": [
    "** Treinamento da CNN**"
   ]
  },
  {
   "cell_type": "code",
   "execution_count": 8,
   "metadata": {
    "collapsed": true,
    "deletable": true,
    "editable": true
   },
   "outputs": [],
   "source": [
    "# Metodos auxiliares para inicializacao do treino, impressao de dados estatisticos durante o treino e carregamento de batch de dados\n",
    "\n",
    "def train_cnn(session, optimizer, keep_probability, feature_batch, label_batch):\n",
    "    session.run(optimizer, feed_dict={x: feature_batch, y: label_batch, keep_prob: keep_probability})\n",
    "\n",
    "def print_stats(session, feature_batch, label_batch, cost, accuracy):\n",
    "    loss = session.run(cost, feed_dict={x: feature_batch, y: label_batch, keep_prob: 1.})\n",
    "    \n",
    "    validation_accuracy = session.run(accuracy, feed_dict={x: valid_features, y: valid_labels, keep_prob: 1.})\n",
    "    train_accuracy  = session.run(accuracy, feed_dict={x: feature_batch, y: label_batch, keep_prob: 1.})\n",
    "\n",
    "    print('Perda: {:>10.4f} Acuracia na Validacao: {:.6f} Acuracia no Treino: {:.6f}'.format(loss, validation_accuracy, train_accuracy))\n",
    "\n",
    "def batch_features_labels(features, labels, batch_size):\n",
    "    for start in range(0, len(features), batch_size):\n",
    "        end = min(start + batch_size, len(features))\n",
    "        yield features[start:end], labels[start:end]\n",
    "        \n",
    "def load_preprocess_training_batch(batch_id, batch_size):\n",
    "    filename = '/images/preprocess_batch_' + str(batch_id) + '.p'\n",
    "    features, labels = pickle.load(open(filename, mode='rb'))\n",
    "\n",
    "    # Return the training data in batches of size <batch_size> or less\n",
    "    return batch_features_labels(features, labels, batch_size)\n"
   ]
  },
  {
   "cell_type": "code",
   "execution_count": 9,
   "metadata": {
    "collapsed": true,
    "deletable": true,
    "editable": true
   },
   "outputs": [],
   "source": [
    "# Carregando dados que serao usados para validacao durante o treino\n",
    "valid_features, valid_labels = pickle.load(open('/images/preprocess_validation.p', mode='rb'))\n"
   ]
  },
  {
   "cell_type": "code",
   "execution_count": 13,
   "metadata": {
    "collapsed": false,
    "deletable": true,
    "editable": true,
    "scrolled": false
   },
   "outputs": [
    {
     "name": "stdout",
     "output_type": "stream",
     "text": [
      "Treinando...\n",
      "Epoch  1, Captcha Batch 0:  Perda:     2.3099 Acuracia na Validacao: 0.103748 Acuracia no Treino: 0.088608\n",
      "Epoch  1, Captcha Batch 1:  Perda:     2.3023 Acuracia na Validacao: 0.108434 Acuracia no Treino: 0.100600\n",
      "Epoch  1, Captcha Batch 2:  Perda:     2.3014 Acuracia na Validacao: 0.080991 Acuracia no Treino: 0.098601\n",
      "Epoch  1, Captcha Batch 3:  Perda:     2.3015 Acuracia na Validacao: 0.124498 Acuracia no Treino: 0.126582\n",
      "Epoch  1, Captcha Batch 4:  Perda:     2.3024 Acuracia na Validacao: 0.105087 Acuracia no Treino: 0.109927\n",
      "Epoch  1, Captcha Batch 5:  Perda:     2.3020 Acuracia na Validacao: 0.103748 Acuracia no Treino: 0.101932\n",
      "Epoch  1, Captcha Batch 6:  Perda:     2.3027 Acuracia na Validacao: 0.118474 Acuracia no Treino: 0.111333\n",
      "Epoch  1, Captcha Batch 7:  Perda:     2.3018 Acuracia na Validacao: 0.104418 Acuracia no Treino: 0.107333\n",
      "Epoch  1, Captcha Batch 8:  Perda:     2.3016 Acuracia na Validacao: 0.133199 Acuracia no Treino: 0.119333\n",
      "Epoch  2, Captcha Batch 0:  Perda:     2.3021 Acuracia na Validacao: 0.109772 Acuracia no Treino: 0.111925\n",
      "Epoch  2, Captcha Batch 1:  Perda:     2.3023 Acuracia na Validacao: 0.129183 Acuracia no Treino: 0.106596\n",
      "Epoch  2, Captcha Batch 2:  Perda:     2.3012 Acuracia na Validacao: 0.114458 Acuracia no Treino: 0.128581\n",
      "Epoch  2, Captcha Batch 3:  Perda:     2.3013 Acuracia na Validacao: 0.107095 Acuracia no Treino: 0.112592\n",
      "Epoch  2, Captcha Batch 4:  Perda:     2.3027 Acuracia na Validacao: 0.105087 Acuracia no Treino: 0.101932\n",
      "Epoch  2, Captcha Batch 5:  Perda:     2.3022 Acuracia na Validacao: 0.105087 Acuracia no Treino: 0.095936\n",
      "Epoch  2, Captcha Batch 6:  Perda:     2.3008 Acuracia na Validacao: 0.116466 Acuracia no Treino: 0.120667\n",
      "Epoch  2, Captcha Batch 7:  Perda:     2.3012 Acuracia na Validacao: 0.114458 Acuracia no Treino: 0.130667\n",
      "Epoch  2, Captcha Batch 8:  Perda:     2.3004 Acuracia na Validacao: 0.087684 Acuracia no Treino: 0.108667\n",
      "Epoch  3, Captcha Batch 0:  Perda:     2.3004 Acuracia na Validacao: 0.080991 Acuracia no Treino: 0.099267\n",
      "Epoch  3, Captcha Batch 1:  Perda:     2.2999 Acuracia na Validacao: 0.080991 Acuracia no Treino: 0.097935\n",
      "Epoch  3, Captcha Batch 2:  Perda:     2.2978 Acuracia na Validacao: 0.102410 Acuracia no Treino: 0.135243\n",
      "Epoch  3, Captcha Batch 3:  Perda:     2.2965 Acuracia na Validacao: 0.163989 Acuracia no Treino: 0.197202\n",
      "Epoch  3, Captcha Batch 4:  Perda:     2.2949 Acuracia na Validacao: 0.146586 Acuracia no Treino: 0.155230\n",
      "Epoch  3, Captcha Batch 5:  Perda:     2.2903 Acuracia na Validacao: 0.116466 Acuracia no Treino: 0.105929\n",
      "Epoch  3, Captcha Batch 6:  Perda:     2.2869 Acuracia na Validacao: 0.133869 Acuracia no Treino: 0.176667\n",
      "Epoch  3, Captcha Batch 7:  Perda:     2.2886 Acuracia na Validacao: 0.086345 Acuracia no Treino: 0.108667\n",
      "Epoch  3, Captcha Batch 8:  Perda:     2.2825 Acuracia na Validacao: 0.090361 Acuracia no Treino: 0.115333\n",
      "Epoch  4, Captcha Batch 0:  Perda:     2.2752 Acuracia na Validacao: 0.131861 Acuracia no Treino: 0.147901\n",
      "Epoch  4, Captcha Batch 1:  Perda:     2.2583 Acuracia na Validacao: 0.253012 Acuracia no Treino: 0.251832\n",
      "Epoch  4, Captcha Batch 2:  Perda:     2.2409 Acuracia na Validacao: 0.168675 Acuracia no Treino: 0.186542\n",
      "Epoch  4, Captcha Batch 3:  Perda:     2.2175 Acuracia na Validacao: 0.222222 Acuracia no Treino: 0.248501\n",
      "Epoch  4, Captcha Batch 4:  Perda:     2.1956 Acuracia na Validacao: 0.248327 Acuracia no Treino: 0.251166\n",
      "Epoch  4, Captcha Batch 5:  Perda:     2.1538 Acuracia na Validacao: 0.313253 Acuracia no Treino: 0.310460\n",
      "Epoch  4, Captcha Batch 6:  Perda:     2.1019 Acuracia na Validacao: 0.350736 Acuracia no Treino: 0.365333\n",
      "Epoch  4, Captcha Batch 7:  Perda:     2.0491 Acuracia na Validacao: 0.324632 Acuracia no Treino: 0.307333\n",
      "Epoch  4, Captcha Batch 8:  Perda:     1.9804 Acuracia na Validacao: 0.376841 Acuracia no Treino: 0.409333\n",
      "Epoch  5, Captcha Batch 0:  Perda:     1.9416 Acuracia na Validacao: 0.389558 Acuracia no Treino: 0.382412\n",
      "Epoch  5, Captcha Batch 1:  Perda:     1.8521 Acuracia na Validacao: 0.366801 Acuracia no Treino: 0.382412\n",
      "Epoch  5, Captcha Batch 2:  Perda:     1.7743 Acuracia na Validacao: 0.387550 Acuracia no Treino: 0.395070\n",
      "Epoch  5, Captcha Batch 3:  Perda:     1.6902 Acuracia na Validacao: 0.397590 Acuracia no Treino: 0.404397\n",
      "Epoch  5, Captcha Batch 4:  Perda:     1.6912 Acuracia na Validacao: 0.409639 Acuracia no Treino: 0.429047\n",
      "Epoch  5, Captcha Batch 5:  Perda:     1.6418 Acuracia na Validacao: 0.514056 Acuracia no Treino: 0.520986\n",
      "Epoch  5, Captcha Batch 6:  Perda:     1.5638 Acuracia na Validacao: 0.542169 Acuracia no Treino: 0.565333\n",
      "Epoch  5, Captcha Batch 7:  Perda:     1.4810 Acuracia na Validacao: 0.595716 Acuracia no Treino: 0.619333\n",
      "Epoch  5, Captcha Batch 8:  Perda:     1.3729 Acuracia na Validacao: 0.597055 Acuracia no Treino: 0.632000\n",
      "Epoch  6, Captcha Batch 0:  Perda:     1.3674 Acuracia na Validacao: 0.598394 Acuracia no Treino: 0.593604\n",
      "Epoch  6, Captcha Batch 1:  Perda:     1.2693 Acuracia na Validacao: 0.642570 Acuracia no Treino: 0.635576\n",
      "Epoch  6, Captcha Batch 2:  Perda:     1.1799 Acuracia na Validacao: 0.659973 Acuracia no Treino: 0.671552\n",
      "Epoch  6, Captcha Batch 3:  Perda:     1.1124 Acuracia na Validacao: 0.682062 Acuracia no Treino: 0.684211\n",
      "Epoch  6, Captcha Batch 4:  Perda:     1.0275 Acuracia na Validacao: 0.708166 Acuracia no Treino: 0.732845\n",
      "Epoch  6, Captcha Batch 5:  Perda:     0.9524 Acuracia na Validacao: 0.726238 Acuracia no Treino: 0.742838\n",
      "Epoch  6, Captcha Batch 6:  Perda:     0.9592 Acuracia na Validacao: 0.708166 Acuracia no Treino: 0.731333\n",
      "Epoch  6, Captcha Batch 7:  Perda:     0.9099 Acuracia na Validacao: 0.750335 Acuracia no Treino: 0.766000\n",
      "Epoch  6, Captcha Batch 8:  Perda:     0.7963 Acuracia na Validacao: 0.755689 Acuracia no Treino: 0.768000\n",
      "Epoch  7, Captcha Batch 0:  Perda:     0.7726 Acuracia na Validacao: 0.770415 Acuracia no Treino: 0.757495\n",
      "Epoch  7, Captcha Batch 1:  Perda:     0.7107 Acuracia na Validacao: 0.799866 Acuracia no Treino: 0.808128\n",
      "Epoch  7, Captcha Batch 2:  Perda:     0.6210 Acuracia na Validacao: 0.808568 Acuracia no Treino: 0.813458\n",
      "Epoch  7, Captcha Batch 3:  Perda:     0.5878 Acuracia na Validacao: 0.820616 Acuracia no Treino: 0.834111\n",
      "Epoch  7, Captcha Batch 4:  Perda:     0.6108 Acuracia na Validacao: 0.825971 Acuracia no Treino: 0.836776\n",
      "Epoch  7, Captcha Batch 5:  Perda:     0.5316 Acuracia na Validacao: 0.836680 Acuracia no Treino: 0.842772\n",
      "Epoch  7, Captcha Batch 6:  Perda:     0.5201 Acuracia na Validacao: 0.836680 Acuracia no Treino: 0.834000\n",
      "Epoch  7, Captcha Batch 7:  Perda:     0.4795 Acuracia na Validacao: 0.860776 Acuracia no Treino: 0.858000\n",
      "Epoch  7, Captcha Batch 8:  Perda:     0.4468 Acuracia na Validacao: 0.855422 Acuracia no Treino: 0.865333\n",
      "Epoch  8, Captcha Batch 0:  Perda:     0.4577 Acuracia na Validacao: 0.875502 Acuracia no Treino: 0.862758\n",
      "Epoch  8, Captcha Batch 1:  Perda:     0.3709 Acuracia na Validacao: 0.887550 Acuracia no Treino: 0.891406\n",
      "Epoch  8, Captcha Batch 2:  Perda:     0.3553 Acuracia na Validacao: 0.894244 Acuracia no Treino: 0.880080\n",
      "Epoch  8, Captcha Batch 3:  Perda:     0.3103 Acuracia na Validacao: 0.911647 Acuracia no Treino: 0.900067\n",
      "Epoch  8, Captcha Batch 4:  Perda:     0.3115 Acuracia na Validacao: 0.906961 Acuracia no Treino: 0.901399\n",
      "Epoch  8, Captcha Batch 5:  Perda:     0.3208 Acuracia na Validacao: 0.906292 Acuracia no Treino: 0.903398\n",
      "Epoch  8, Captcha Batch 6:  Perda:     0.3395 Acuracia na Validacao: 0.906292 Acuracia no Treino: 0.884000\n",
      "Epoch  8, Captcha Batch 7:  Perda:     0.2866 Acuracia na Validacao: 0.924364 Acuracia no Treino: 0.909333\n",
      "Epoch  8, Captcha Batch 8:  Perda:     0.2428 Acuracia na Validacao: 0.916332 Acuracia no Treino: 0.918000\n",
      "Epoch  9, Captcha Batch 0:  Perda:     0.2303 Acuracia na Validacao: 0.935074 Acuracia no Treino: 0.924051\n",
      "Epoch  9, Captcha Batch 1:  Perda:     0.2358 Acuracia na Validacao: 0.929719 Acuracia no Treino: 0.926049\n",
      "Epoch  9, Captcha Batch 2:  Perda:     0.2457 Acuracia na Validacao: 0.927711 Acuracia no Treino: 0.924051\n",
      "Epoch  9, Captcha Batch 3:  Perda:     0.1972 Acuracia na Validacao: 0.940428 Acuracia no Treino: 0.945370\n",
      "Epoch  9, Captcha Batch 4:  Perda:     0.1942 Acuracia na Validacao: 0.942436 Acuracia no Treino: 0.935376\n",
      "Epoch  9, Captcha Batch 5:  Perda:     0.1879 Acuracia na Validacao: 0.944444 Acuracia no Treino: 0.940706\n",
      "Epoch  9, Captcha Batch 6:  Perda:     0.2099 Acuracia na Validacao: 0.939759 Acuracia no Treino: 0.934000\n",
      "Epoch  9, Captcha Batch 7:  Perda:     0.1901 Acuracia na Validacao: 0.947122 Acuracia no Treino: 0.945333\n",
      "Epoch  9, Captcha Batch 8:  Perda:     0.1413 Acuracia na Validacao: 0.957162 Acuracia no Treino: 0.959333\n",
      "Epoch 10, Captcha Batch 0:  Perda:     0.1394 Acuracia na Validacao: 0.951807 Acuracia no Treino: 0.952032\n",
      "Epoch 10, Captcha Batch 1:  Perda:     0.1213 Acuracia na Validacao: 0.953815 Acuracia no Treino: 0.960693\n",
      "Epoch 10, Captcha Batch 2:  Perda:     0.1465 Acuracia na Validacao: 0.952477 Acuracia no Treino: 0.950033\n",
      "Epoch 10, Captcha Batch 3:  Perda:     0.1334 Acuracia na Validacao: 0.955823 Acuracia no Treino: 0.955363\n",
      "Epoch 10, Captcha Batch 4:  Perda:     0.1238 Acuracia na Validacao: 0.959170 Acuracia no Treino: 0.963358\n",
      "Epoch 10, Captcha Batch 5:  Perda:     0.1249 Acuracia na Validacao: 0.956493 Acuracia no Treino: 0.963358\n",
      "Epoch 10, Captcha Batch 6:  Perda:     0.1185 Acuracia na Validacao: 0.965194 Acuracia no Treino: 0.963333\n",
      "Epoch 10, Captcha Batch 7:  Perda:     0.1207 Acuracia na Validacao: 0.961178 Acuracia no Treino: 0.965333\n",
      "Epoch 10, Captcha Batch 8:  Perda:     0.1147 Acuracia na Validacao: 0.960509 Acuracia no Treino: 0.964000\n",
      "Epoch 11, Captcha Batch 0:  Perda:     0.1047 Acuracia na Validacao: 0.968541 Acuracia no Treino: 0.974017\n",
      "Epoch 11, Captcha Batch 1:  Perda:     0.0860 Acuracia na Validacao: 0.968541 Acuracia no Treino: 0.977348\n",
      "Epoch 11, Captcha Batch 2:  Perda:     0.0902 Acuracia na Validacao: 0.973896 Acuracia no Treino: 0.975350\n",
      "Epoch 11, Captcha Batch 3:  Perda:     0.0906 Acuracia na Validacao: 0.971218 Acuracia no Treino: 0.970686\n",
      "Epoch 11, Captcha Batch 4:  Perda:     0.0923 Acuracia na Validacao: 0.973896 Acuracia no Treino: 0.976682\n",
      "Epoch 11, Captcha Batch 5:  Perda:     0.0919 Acuracia na Validacao: 0.973896 Acuracia no Treino: 0.972019\n",
      "Epoch 11, Captcha Batch 6:  Perda:     0.0849 Acuracia na Validacao: 0.972557 Acuracia no Treino: 0.977333\n",
      "Epoch 11, Captcha Batch 7:  Perda:     0.0802 Acuracia na Validacao: 0.975234 Acuracia no Treino: 0.977333\n",
      "Epoch 11, Captcha Batch 8:  Perda:     0.0634 Acuracia na Validacao: 0.977242 Acuracia no Treino: 0.979333\n",
      "Epoch 12, Captcha Batch 0:  Perda:     0.0550 Acuracia na Validacao: 0.979250 Acuracia no Treino: 0.986009\n",
      "Epoch 12, Captcha Batch 1:  Perda:     0.0537 Acuracia na Validacao: 0.979920 Acuracia no Treino: 0.986009\n",
      "Epoch 12, Captcha Batch 2:  Perda:     0.0561 Acuracia na Validacao: 0.979920 Acuracia no Treino: 0.986009\n",
      "Epoch 12, Captcha Batch 3:  Perda:     0.0687 Acuracia na Validacao: 0.981928 Acuracia no Treino: 0.980013\n",
      "Epoch 12, Captcha Batch 4:  Perda:     0.0712 Acuracia na Validacao: 0.982597 Acuracia no Treino: 0.983344\n",
      "Epoch 12, Captcha Batch 5:  Perda:     0.0686 Acuracia na Validacao: 0.979920 Acuracia no Treino: 0.981346\n",
      "Epoch 12, Captcha Batch 6:  Perda:     0.0530 Acuracia na Validacao: 0.980589 Acuracia no Treino: 0.985333\n",
      "Epoch 12, Captcha Batch 7:  Perda:     0.0541 Acuracia na Validacao: 0.985274 Acuracia no Treino: 0.982667\n",
      "Epoch 12, Captcha Batch 8:  Perda:     0.0450 Acuracia na Validacao: 0.983936 Acuracia no Treino: 0.984667\n",
      "Epoch 13, Captcha Batch 0:  Perda:     0.0401 Acuracia na Validacao: 0.984605 Acuracia no Treino: 0.989340\n",
      "Epoch 13, Captcha Batch 1:  Perda:     0.0442 Acuracia na Validacao: 0.983936 Acuracia no Treino: 0.988008\n",
      "Epoch 13, Captcha Batch 2:  Perda:     0.0474 Acuracia na Validacao: 0.984605 Acuracia no Treino: 0.986009\n",
      "Epoch 13, Captcha Batch 3:  Perda:     0.0445 Acuracia na Validacao: 0.985944 Acuracia no Treino: 0.988674\n",
      "Epoch 13, Captcha Batch 4:  Perda:     0.0484 Acuracia na Validacao: 0.981928 Acuracia no Treino: 0.986676\n",
      "Epoch 13, Captcha Batch 5:  Perda:     0.0566 Acuracia na Validacao: 0.987952 Acuracia no Treino: 0.982678\n",
      "Epoch 13, Captcha Batch 6:  Perda:     0.0427 Acuracia na Validacao: 0.986613 Acuracia no Treino: 0.988000\n",
      "Epoch 13, Captcha Batch 7:  Perda:     0.0519 Acuracia na Validacao: 0.984605 Acuracia no Treino: 0.985333\n",
      "Epoch 13, Captcha Batch 8:  Perda:     0.0414 Acuracia na Validacao: 0.981928 Acuracia no Treino: 0.990000\n",
      "Epoch 14, Captcha Batch 0:  Perda:     0.0353 Acuracia na Validacao: 0.981928 Acuracia no Treino: 0.990673\n",
      "Epoch 14, Captcha Batch 1:  Perda:     0.0334 Acuracia na Validacao: 0.983266 Acuracia no Treino: 0.993338\n",
      "Epoch 14, Captcha Batch 2:  Perda:     0.0376 Acuracia na Validacao: 0.979920 Acuracia no Treino: 0.991339\n",
      "Epoch 14, Captcha Batch 3:  Perda:     0.0312 Acuracia na Validacao: 0.981258 Acuracia no Treino: 0.994004\n",
      "Epoch 14, Captcha Batch 4:  Perda:     0.0367 Acuracia na Validacao: 0.986613 Acuracia no Treino: 0.989340\n",
      "Epoch 14, Captcha Batch 5:  Perda:     0.0409 Acuracia na Validacao: 0.987952 Acuracia no Treino: 0.987342\n",
      "Epoch 14, Captcha Batch 6:  Perda:     0.0418 Acuracia na Validacao: 0.987282 Acuracia no Treino: 0.988667\n",
      "Epoch 14, Captcha Batch 7:  Perda:     0.0519 Acuracia na Validacao: 0.987282 Acuracia no Treino: 0.986000\n",
      "Epoch 14, Captcha Batch 8:  Perda:     0.0423 Acuracia na Validacao: 0.989290 Acuracia no Treino: 0.990667\n",
      "Epoch 15, Captcha Batch 0:  Perda:     0.0362 Acuracia na Validacao: 0.987952 Acuracia no Treino: 0.994004\n",
      "Epoch 15, Captcha Batch 1:  Perda:     0.0308 Acuracia na Validacao: 0.989960 Acuracia no Treino: 0.994004\n",
      "Epoch 15, Captcha Batch 2:  Perda:     0.0248 Acuracia na Validacao: 0.989960 Acuracia no Treino: 0.995336\n",
      "Epoch 15, Captcha Batch 3:  Perda:     0.0233 Acuracia na Validacao: 0.987952 Acuracia no Treino: 0.993338\n",
      "Epoch 15, Captcha Batch 4:  Perda:     0.0268 Acuracia na Validacao: 0.986613 Acuracia no Treino: 0.991339\n",
      "Epoch 15, Captcha Batch 5:  Perda:     0.0281 Acuracia na Validacao: 0.988621 Acuracia no Treino: 0.990007\n",
      "Epoch 15, Captcha Batch 6:  Perda:     0.0269 Acuracia na Validacao: 0.987282 Acuracia no Treino: 0.992667\n",
      "Epoch 15, Captcha Batch 7:  Perda:     0.0319 Acuracia na Validacao: 0.988621 Acuracia no Treino: 0.994000\n",
      "Epoch 15, Captcha Batch 8:  Perda:     0.0251 Acuracia na Validacao: 0.988621 Acuracia no Treino: 0.994667\n",
      "Epoch 16, Captcha Batch 0:  Perda:     0.0214 Acuracia na Validacao: 0.987952 Acuracia no Treino: 0.996669\n",
      "Epoch 16, Captcha Batch 1:  Perda:     0.0255 Acuracia na Validacao: 0.989290 Acuracia no Treino: 0.995337\n",
      "Epoch 16, Captcha Batch 2:  Perda:     0.0259 Acuracia na Validacao: 0.990629 Acuracia no Treino: 0.994670\n",
      "Epoch 16, Captcha Batch 3:  Perda:     0.0262 Acuracia na Validacao: 0.990629 Acuracia no Treino: 0.994670\n",
      "Epoch 16, Captcha Batch 4:  Perda:     0.0298 Acuracia na Validacao: 0.986613 Acuracia no Treino: 0.993338\n",
      "Epoch 16, Captcha Batch 5:  Perda:     0.0314 Acuracia na Validacao: 0.987282 Acuracia no Treino: 0.991339\n",
      "Epoch 16, Captcha Batch 6:  Perda:     0.0244 Acuracia na Validacao: 0.989290 Acuracia no Treino: 0.995333\n",
      "Epoch 16, Captcha Batch 7:  Perda:     0.0268 Acuracia na Validacao: 0.990629 Acuracia no Treino: 0.994000\n",
      "Epoch 16, Captcha Batch 8:  Perda:     0.0216 Acuracia na Validacao: 0.989290 Acuracia no Treino: 0.996000\n",
      "Epoch 17, Captcha Batch 0:  Perda:     0.0172 Acuracia na Validacao: 0.989960 Acuracia no Treino: 0.995336\n",
      "Epoch 17, Captcha Batch 1:  Perda:     0.0184 Acuracia na Validacao: 0.991968 Acuracia no Treino: 0.996669\n",
      "Epoch 17, Captcha Batch 2:  Perda:     0.0222 Acuracia na Validacao: 0.992637 Acuracia no Treino: 0.995336\n",
      "Epoch 17, Captcha Batch 3:  Perda:     0.0186 Acuracia na Validacao: 0.991298 Acuracia no Treino: 0.996669\n",
      "Epoch 17, Captcha Batch 4:  Perda:     0.0227 Acuracia na Validacao: 0.990629 Acuracia no Treino: 0.991339\n",
      "Epoch 17, Captcha Batch 5:  Perda:     0.0216 Acuracia na Validacao: 0.989960 Acuracia no Treino: 0.992672\n",
      "Epoch 17, Captcha Batch 6:  Perda:     0.0184 Acuracia na Validacao: 0.990629 Acuracia no Treino: 0.997333\n",
      "Epoch 17, Captcha Batch 7:  Perda:     0.0230 Acuracia na Validacao: 0.991968 Acuracia no Treino: 0.994000\n",
      "Epoch 17, Captcha Batch 8:  Perda:     0.0152 Acuracia na Validacao: 0.993976 Acuracia no Treino: 0.998000\n",
      "Epoch 18, Captcha Batch 0:  Perda:     0.0136 Acuracia na Validacao: 0.994645 Acuracia no Treino: 0.997335\n",
      "Epoch 18, Captcha Batch 1:  Perda:     0.0167 Acuracia na Validacao: 0.995984 Acuracia no Treino: 0.995336\n",
      "Epoch 18, Captcha Batch 2:  Perda:     0.0182 Acuracia na Validacao: 0.992637 Acuracia no Treino: 0.995336\n",
      "Epoch 18, Captcha Batch 3:  Perda:     0.0172 Acuracia na Validacao: 0.991968 Acuracia no Treino: 0.995336\n",
      "Epoch 18, Captcha Batch 4:  Perda:     0.0178 Acuracia na Validacao: 0.991968 Acuracia no Treino: 0.994670\n",
      "Epoch 18, Captcha Batch 5:  Perda:     0.0217 Acuracia na Validacao: 0.989290 Acuracia no Treino: 0.994004\n",
      "Epoch 18, Captcha Batch 6:  Perda:     0.0177 Acuracia na Validacao: 0.990629 Acuracia no Treino: 0.995333\n",
      "Epoch 18, Captcha Batch 7:  Perda:     0.0190 Acuracia na Validacao: 0.993976 Acuracia no Treino: 0.997333\n",
      "Epoch 18, Captcha Batch 8:  Perda:     0.0148 Acuracia na Validacao: 0.993976 Acuracia no Treino: 0.998000\n",
      "Epoch 19, Captcha Batch 0:  Perda:     0.0112 Acuracia na Validacao: 0.993976 Acuracia no Treino: 0.998001\n",
      "Epoch 19, Captcha Batch 1:  Perda:     0.0149 Acuracia na Validacao: 0.995984 Acuracia no Treino: 0.995336\n",
      "Epoch 19, Captcha Batch 2:  Perda:     0.0151 Acuracia na Validacao: 0.993307 Acuracia no Treino: 0.997335\n",
      "Epoch 19, Captcha Batch 3:  Perda:     0.0148 Acuracia na Validacao: 0.994645 Acuracia no Treino: 0.995336\n",
      "Epoch 19, Captcha Batch 4:  Perda:     0.0203 Acuracia na Validacao: 0.993307 Acuracia no Treino: 0.996003\n",
      "Epoch 19, Captcha Batch 5:  Perda:     0.0200 Acuracia na Validacao: 0.991968 Acuracia no Treino: 0.994670\n",
      "Epoch 19, Captcha Batch 6:  Perda:     0.0176 Acuracia na Validacao: 0.995315 Acuracia no Treino: 0.998667\n",
      "Epoch 19, Captcha Batch 7:  Perda:     0.0185 Acuracia na Validacao: 0.994645 Acuracia no Treino: 0.996667\n",
      "Epoch 19, Captcha Batch 8:  Perda:     0.0120 Acuracia na Validacao: 0.995315 Acuracia no Treino: 0.999333\n",
      "Epoch 20, Captcha Batch 0:  Perda:     0.0094 Acuracia na Validacao: 0.995315 Acuracia no Treino: 0.998668\n",
      "Epoch 20, Captcha Batch 1:  Perda:     0.0138 Acuracia na Validacao: 0.992637 Acuracia no Treino: 0.997335\n",
      "Epoch 20, Captcha Batch 2:  Perda:     0.0126 Acuracia na Validacao: 0.993976 Acuracia no Treino: 0.997335\n",
      "Epoch 20, Captcha Batch 3:  Perda:     0.0112 Acuracia na Validacao: 0.993976 Acuracia no Treino: 0.998668\n",
      "Epoch 20, Captcha Batch 4:  Perda:     0.0135 Acuracia na Validacao: 0.994645 Acuracia no Treino: 0.998668\n",
      "Epoch 20, Captcha Batch 5:  Perda:     0.0112 Acuracia na Validacao: 0.995315 Acuracia no Treino: 0.997335\n",
      "Epoch 20, Captcha Batch 6:  Perda:     0.0108 Acuracia na Validacao: 0.993976 Acuracia no Treino: 0.997333\n",
      "Epoch 20, Captcha Batch 7:  Perda:     0.0116 Acuracia na Validacao: 0.994645 Acuracia no Treino: 0.998000\n",
      "Epoch 20, Captcha Batch 8:  Perda:     0.0056 Acuracia na Validacao: 0.995984 Acuracia no Treino: 0.998667\n"
     ]
    }
   ],
   "source": [
    "epochs = 20\n",
    "keep_probability = .60\n",
    "save_model_path = './model'\n",
    "batch_size=5000\n",
    "\n",
    "print('Treinando...')\n",
    "with tf.Session() as sess:\n",
    "    sess.run(tf.global_variables_initializer())\n",
    "    \n",
    "    for epoch in range(epochs):\n",
    "\n",
    "        for batch_i in range(9):\n",
    "            for batch_features, batch_labels in load_preprocess_training_batch(batch_i, batch_size):\n",
    "                train_cnn(sess, optimizer, keep_probability, batch_features, batch_labels)\n",
    "            print('Epoch {:>2}, Captcha Batch {}:  '.format(epoch + 1, batch_i), end='')\n",
    "            print_stats(sess, batch_features, batch_labels, cost, accuracy)\n",
    "            \n",
    "    saver = tf.train.Saver()\n",
    "    save_path = saver.save(sess, save_model_path)\n",
    "    "
   ]
  },
  {
   "cell_type": "markdown",
   "metadata": {},
   "source": [
    "** Validação do Modelo no Dataset de Teste **"
   ]
  },
  {
   "cell_type": "code",
   "execution_count": 14,
   "metadata": {
    "collapsed": false,
    "deletable": true,
    "editable": true
   },
   "outputs": [
    {
     "name": "stdout",
     "output_type": "stream",
     "text": [
      "INFO:tensorflow:Restoring parameters from ./model\n",
      "Acuracia nos dados de Teste: 0.9930000901222229\n",
      "\n"
     ]
    },
    {
     "data": {
      "image/png": "[encoded data removed]",
      "text/plain": [
       "<matplotlib.figure.Figure at 0x7f1b5026df60>"
      ]
     },
     "metadata": {
      "image/png": {
       "height": 319,
       "width": 360
      }
     },
     "output_type": "display_data"
    }
   ],
   "source": [
    "# Testando o modelo\n",
    "# Obs: Esta parte do codigo foi alterada a partir do codigo \n",
    "# https://github.com/udacity/machine-learning/blob/master/projects/image-classification/helper.py\n",
    "\n",
    "try:\n",
    "    if batch_size:\n",
    "        pass\n",
    "except NameError:\n",
    "    batch_size = 500\n",
    "\n",
    "save_model_path = './model'\n",
    "n_samples = 4\n",
    "top_n_predictions = 3\n",
    "\n",
    "def batch_features_labels(features, labels, batch_size):\n",
    "    for start in range(0, len(features), batch_size):\n",
    "        end = min(start + batch_size, len(features))\n",
    "        yield features[start:end], labels[start:end]\n",
    "        \n",
    "def display_image_predictions(features, labels, predictions):\n",
    "    label_binarizer = LabelBinarizer()\n",
    "    label_binarizer.fit(range(10))\n",
    "    label_ids = label_binarizer.inverse_transform(np.array(labels))\n",
    "\n",
    "    fig, axies = plt.subplots(nrows=4, ncols=2)\n",
    "    fig.tight_layout()\n",
    "    fig.suptitle('Softmax Predictions', fontsize=20, y=1.1)\n",
    "\n",
    "    n_predictions = 3\n",
    "    margin = 0.05\n",
    "    ind = np.arange(n_predictions)\n",
    "    width = (1. - 2. * margin) / n_predictions\n",
    "\n",
    "    for image_i, (feature, label_id, pred_indicies, pred_values) in enumerate(zip(features, label_ids, predictions.indices, predictions.values)):\n",
    "        pred_names = pred_indicies\n",
    "        correct_name = label_id\n",
    "\n",
    "        axies[image_i][0].imshow(feature)\n",
    "        axies[image_i][0].set_title(correct_name)\n",
    "        axies[image_i][0].set_axis_off()\n",
    "\n",
    "        axies[image_i][1].barh(ind + margin, pred_values[::-1], width)\n",
    "        axies[image_i][1].set_yticks(ind + margin)\n",
    "        axies[image_i][1].set_yticklabels(pred_names[::-1])\n",
    "        axies[image_i][1].set_xticks([0, 0.5, 1.0])\n",
    "        \n",
    "def test_model():\n",
    "    test_features, test_labels = pickle.load(open('/images/preprocess_testing.p', mode='rb'))\n",
    "    loaded_graph = tf.Graph()\n",
    "\n",
    "    with tf.Session(graph=loaded_graph) as sess:\n",
    "        # Carrega o modelo\n",
    "        loader = tf.train.import_meta_graph(save_model_path+'.meta')\n",
    "        loader.restore(sess, save_model_path)\n",
    "\n",
    "        # Pega os tensors previamente nomeados a partir do modelo carregado \n",
    "        loaded_x = loaded_graph.get_tensor_by_name('x:0')\n",
    "        loaded_y = loaded_graph.get_tensor_by_name('y:0')\n",
    "        loaded_keep_prob = loaded_graph.get_tensor_by_name('keep_prob:0')\n",
    "        loaded_logits = loaded_graph.get_tensor_by_name('logits:0')\n",
    "        loaded_acc = loaded_graph.get_tensor_by_name('accuracy:0')\n",
    "        \n",
    "        # Pega a acuracia em batchs\n",
    "        test_batch_acc_total = 0\n",
    "        test_batch_count = 0\n",
    "        \n",
    "        for train_feature_batch, train_label_batch in batch_features_labels(test_features, test_labels, batch_size):\n",
    "            test_batch_acc_total += sess.run(loaded_acc,\n",
    "                                             feed_dict={loaded_x: train_feature_batch, loaded_y: train_label_batch, loaded_keep_prob: 1.0})\n",
    "            test_batch_count += 1\n",
    "\n",
    "        print('Acuracia nos dados de Teste: {}\\n'.format(test_batch_acc_total/test_batch_count))\n",
    "\n",
    "        # Imprime Samples Randomicos\n",
    "        random_test_features, random_test_labels = tuple(zip(*random.sample(list(zip(test_features, test_labels)), n_samples)))\n",
    "        random_test_predictions = sess.run(tf.nn.top_k(tf.nn.softmax(loaded_logits), top_n_predictions),\n",
    "                                           feed_dict={loaded_x: random_test_features, loaded_y: random_test_labels, loaded_keep_prob: 1.0})\n",
    "        display_image_predictions(random_test_features, random_test_labels, random_test_predictions)\n",
    "\n",
    "test_model()\n"
   ]
  }
 ],
 "metadata": {
  "kernelspec": {
   "display_name": "Python 3",
   "language": "python",
   "name": "python3"
  },
  "language_info": {
   "codemirror_mode": {
    "name": "ipython",
    "version": 3
   },
   "file_extension": ".py",
   "mimetype": "text/x-python",
   "name": "python",
   "nbconvert_exporter": "python",
   "pygments_lexer": "ipython3",
   "version": "3.5.3"
  }
 },
 "nbformat": 4,
 "nbformat_minor": 2
}
